{
 "cells": [
  {
   "cell_type": "markdown",
   "source": "# Linear Regression",
   "metadata": {
    "tags": [],
    "is_collapsed": false,
    "cell_id": "00000-e4c1d1d2-074e-40c5-9948-e38d50d6f3ab",
    "deepnote_cell_type": "text-cell-h1"
   }
  },
  {
   "cell_type": "markdown",
   "source": "Este algoritmo se usa en la estadística para validar que tan bien entrenado está un modelo de Machine Learning.",
   "metadata": {
    "tags": [],
    "is_collapsed": false,
    "deepnote_cell_type": "text-cell-p"
   }
  },
  {
   "cell_type": "markdown",
   "source": "$$\n\\frac{\\sum (x - \\overline x) (y - \\overline y)}{\\sum (x - \\overline x)^2}\n$$",
   "metadata": {
    "tags": [],
    "cell_id": "00004-f1e690b0-d618-424d-a5a3-6a679df8c92f",
    "deepnote_cell_type": "markdown"
   }
  },
  {
   "cell_type": "markdown",
   "source": "### Mínimo Cuadrado",
   "metadata": {
    "tags": [],
    "is_collapsed": false,
    "cell_id": "00004-d8b4160b-3578-483c-a7bf-63d1457e0245",
    "deepnote_cell_type": "text-cell-h3"
   }
  },
  {
   "cell_type": "markdown",
   "source": "Es un procedimiento de análisis numérico en la que, dados un conjunto de datos (pares ordenados y familia de funciones), se intenta determinar la función continua que mejor se aproxime a los datos (línea de regresión o la línea de mejor ajuste), proporcionando una demostración visual de la relación entre los puntos de los mismos. En su forma más simple, busca minimizar la suma de cuadrados de las diferencias ordenadas (llamadas residuos) entre los puntos generados por la función y los correspondientes datos.\n\nEste método se utiliza comúnmente para analizar una serie de datos que se obtengan de algún estudio, con el fin de expresar su comportamiento de manera lineal y así minimizar los errores de la data tomada.\n\nLa creación del método de mínimos cuadrados generalmente se le acredita al matemático alemán Carl Friedrich Gauss, quien lo planteó en 1794 pero no lo publicó sino hasta 1809. El matemático francés Andrien-Marie Legendre fue el primero en publicarlo en 1805, este lo desarrolló de forma independiente.",
   "metadata": {
    "tags": [],
    "cell_id": "00003-8fbc8327-a376-49bb-8f61-405480eec6fe",
    "deepnote_cell_type": "markdown"
   }
  },
  {
   "cell_type": "code",
   "source": "import numpy as np\nimport matplotlib.pyplot as plt",
   "metadata": {
    "tags": [],
    "cell_id": "00005-e9a54bb9-2008-47d6-93d3-e29ade4fc62f",
    "deepnote_to_be_reexecuted": false,
    "source_hash": "eba39436",
    "execution_start": 1637444323118,
    "execution_millis": 503,
    "deepnote_cell_type": "code"
   },
   "outputs": [],
   "execution_count": null
  },
  {
   "cell_type": "code",
   "source": "def linear_regression(x, y):\n    n = np.size(x)\n\n    # Mean\n    m_x, m_y = np.mean(x), np.mean(y)\n\n    # Summation\n    summation_xy = np.sum( (x - m_x) *  (y - m_y))\n    summation_xx = np.sum(x*(x - m_x))\n\n    # Regression Coefficients\n    b1 = summation_xy / summation_xx\n    b0 = m_y - (b1 * m_x)\n\n    return (b0, b1)\n",
   "metadata": {
    "tags": [],
    "cell_id": "00006-3b29ecd7-9636-4c08-b062-f50a7ee6b45a",
    "deepnote_to_be_reexecuted": false,
    "source_hash": "faefb84",
    "execution_start": 1637444323633,
    "execution_millis": 6,
    "deepnote_cell_type": "code"
   },
   "outputs": [],
   "execution_count": null
  },
  {
   "cell_type": "code",
   "source": "# Graphics\n\ndef plot_regression(x, y, b):\n    plt.scatter(x, y, color='b', marker='o', s=30)\n\n    y_pred = b[0] + (b[1] * x)\n\n    plt.plot(x, y_pred, color='r')\n\n    # Tags\n    plt.xlabel('x-independent')\n    plt.ylabel('y-dependent')\n\n    plt.show()",
   "metadata": {
    "tags": [],
    "cell_id": "00007-9aa7aba8-ee12-4dd2-b224-58dd9a27941e",
    "deepnote_to_be_reexecuted": false,
    "source_hash": "c03e09e4",
    "execution_start": 1637444323645,
    "execution_millis": 1,
    "deepnote_cell_type": "code"
   },
   "outputs": [],
   "execution_count": null
  },
  {
   "cell_type": "code",
   "source": "def run():\n    # Observation (dataset)\n\n    x = np.array([1, 2, 3, 4, 5])\n    y = np.array([2, 3, 5, 6, 5])\n\n    print('x', x)\n    print('y', y)\n\n    # Estimation\n    b = linear_regression(x, y)\n\n    print('b', b)\n\n    # Show graphics\n    plot_regression(x, y, b)\n",
   "metadata": {
    "tags": [],
    "cell_id": "00008-74113d2c-c1b7-40a6-8256-c1bed943f1fc",
    "deepnote_to_be_reexecuted": false,
    "source_hash": "5f77cd09",
    "execution_start": 1637444323656,
    "execution_millis": 3,
    "deepnote_cell_type": "code"
   },
   "outputs": [],
   "execution_count": null
  },
  {
   "cell_type": "code",
   "source": "if __name__ == '__main__':\n    run()",
   "metadata": {
    "tags": [],
    "cell_id": "00009-39edea67-0025-400a-9c09-f6b5b00d3bf0",
    "deepnote_to_be_reexecuted": false,
    "source_hash": "f270bd60",
    "execution_start": 1637444323665,
    "execution_millis": 314,
    "deepnote_output_heights": [
     264,
     264
    ],
    "deepnote_cell_type": "code"
   },
   "outputs": [
    {
     "name": "stdout",
     "text": "x [1 2 3 4 5]\ny [2 3 5 6 5]\nb (1.5, 0.9)\n",
     "output_type": "stream"
    },
    {
     "data": {
      "text/plain": "<Figure size 432x288 with 1 Axes>",
      "image/png": "[encoded data removed]"
     },
     "metadata": {
      "needs_background": "light",
      "image/png": {
       "width": 386,
       "height": 262
      }
     },
     "output_type": "display_data"
    }
   ],
   "execution_count": null
  },
  {
   "cell_type": "markdown",
   "source": "<a style='text-decoration:none;line-height:16px;display:flex;color:#5B5B62;padding:10px;justify-content:end;' href='https://deepnote.com?utm_source=created-in-deepnote-cell&projectId=65faf0c0-d877-4117-9cda-5129c35da13c' target=\"_blank\">\n<img alt='Created in deepnote.com' style='display:inline;max-height:16px;margin:0px;margin-right:7.5px;' src='data:image/svg+xml;base64,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' > </img>\nCreated in <span style='font-weight:600;margin-left:4px;'>Deepnote</span></a>",
   "metadata": {
    "tags": [],
    "created_in_deepnote_cell": true,
    "deepnote_cell_type": "markdown"
   }
  }
 ],
 "nbformat": 4,
 "nbformat_minor": 2,
 "metadata": {
  "orig_nbformat": 2,
  "deepnote": {
   "is_reactive": false
  },
  "deepnote_notebook_id": "9385e72c-0eb6-4137-af58-f42f41f9df0b",
  "deepnote_execution_queue": []
 }
}